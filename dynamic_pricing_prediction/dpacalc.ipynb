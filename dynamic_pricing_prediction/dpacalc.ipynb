{
 "cells": [
  {
   "cell_type": "code",
   "execution_count": 4,
   "id": "691f04cc",
   "metadata": {},
   "outputs": [],
   "source": [
    "import pandas as pd\n",
    "import numpy as np\n",
    "import warnings\n",
    "\n",
    "import matplotlib.pyplot as plt\n",
    "import seaborn as sns\n",
    "\n",
    "from sklearn.model_selection import train_test_split\n",
    "from sklearn.linear_model import LinearRegression\n",
    "from sklearn.metrics import mean_absolute_error\n",
    "\n",
    "from sklearn.ensemble import RandomForestRegressor\n",
    "from sklearn.tree import DecisionTreeRegressor\n",
    "from sklearn.neighbors import KNeighborsRegressor\n",
    "from sklearn.metrics import mean_squared_error, r2_score, mean_absolute_error\n",
    "\n",
    "import pickle"
   ]
  },
  {
   "cell_type": "code",
   "execution_count": 5,
   "id": "98fd979c",
   "metadata": {},
   "outputs": [
    {
     "data": {
      "text/html": [
       "<div>\n",
       "<style scoped>\n",
       "    .dataframe tbody tr th:only-of-type {\n",
       "        vertical-align: middle;\n",
       "    }\n",
       "\n",
       "    .dataframe tbody tr th {\n",
       "        vertical-align: top;\n",
       "    }\n",
       "\n",
       "    .dataframe thead th {\n",
       "        text-align: right;\n",
       "    }\n",
       "</style>\n",
       "<table border=\"1\" class=\"dataframe\">\n",
       "  <thead>\n",
       "    <tr style=\"text-align: right;\">\n",
       "      <th></th>\n",
       "      <th>ROW</th>\n",
       "      <th>CORRIDOR_SEGMENT_ID</th>\n",
       "      <th>SPEED</th>\n",
       "      <th>VOLUME</th>\n",
       "      <th>OCCUPANCY</th>\n",
       "      <th>TRAFFIC_DENSITY</th>\n",
       "      <th>CALCULATED_TOLL</th>\n",
       "    </tr>\n",
       "  </thead>\n",
       "  <tbody>\n",
       "    <tr>\n",
       "      <th>0</th>\n",
       "      <td>1</td>\n",
       "      <td>211</td>\n",
       "      <td>70.15000</td>\n",
       "      <td>426.00000</td>\n",
       "      <td>0.00000</td>\n",
       "      <td>6.09085</td>\n",
       "      <td>0.55</td>\n",
       "    </tr>\n",
       "    <tr>\n",
       "      <th>1</th>\n",
       "      <td>2</td>\n",
       "      <td>101</td>\n",
       "      <td>-1.00000</td>\n",
       "      <td>-1.00000</td>\n",
       "      <td>-1.00000</td>\n",
       "      <td>-1.00000</td>\n",
       "      <td>0.55</td>\n",
       "    </tr>\n",
       "    <tr>\n",
       "      <th>2</th>\n",
       "      <td>3</td>\n",
       "      <td>213</td>\n",
       "      <td>73.94812</td>\n",
       "      <td>199.50000</td>\n",
       "      <td>0.02031</td>\n",
       "      <td>2.69728</td>\n",
       "      <td>0.30</td>\n",
       "    </tr>\n",
       "    <tr>\n",
       "      <th>3</th>\n",
       "      <td>4</td>\n",
       "      <td>212</td>\n",
       "      <td>75.04696</td>\n",
       "      <td>269.21739</td>\n",
       "      <td>0.02217</td>\n",
       "      <td>3.58489</td>\n",
       "      <td>0.35</td>\n",
       "    </tr>\n",
       "    <tr>\n",
       "      <th>4</th>\n",
       "      <td>5</td>\n",
       "      <td>212</td>\n",
       "      <td>73.02500</td>\n",
       "      <td>225.60000</td>\n",
       "      <td>0.01650</td>\n",
       "      <td>3.08941</td>\n",
       "      <td>0.35</td>\n",
       "    </tr>\n",
       "  </tbody>\n",
       "</table>\n",
       "</div>"
      ],
      "text/plain": [
       "   ROW  CORRIDOR_SEGMENT_ID     SPEED     VOLUME  OCCUPANCY  TRAFFIC_DENSITY  \\\n",
       "0    1                  211  70.15000  426.00000    0.00000          6.09085   \n",
       "1    2                  101  -1.00000   -1.00000   -1.00000         -1.00000   \n",
       "2    3                  213  73.94812  199.50000    0.02031          2.69728   \n",
       "3    4                  212  75.04696  269.21739    0.02217          3.58489   \n",
       "4    5                  212  73.02500  225.60000    0.01650          3.08941   \n",
       "\n",
       "   CALCULATED_TOLL  \n",
       "0             0.55  \n",
       "1             0.55  \n",
       "2             0.30  \n",
       "3             0.35  \n",
       "4             0.35  "
      ]
     },
     "execution_count": 5,
     "metadata": {},
     "output_type": "execute_result"
    }
   ],
   "source": [
    "data = pd.read_csv('dpadata.csv')\n",
    "data.head()"
   ]
  },
  {
   "cell_type": "code",
   "execution_count": 6,
   "id": "22f51914",
   "metadata": {},
   "outputs": [
    {
     "name": "stdout",
     "output_type": "stream",
     "text": [
      "<class 'pandas.core.frame.DataFrame'>\n",
      "RangeIndex: 72968 entries, 0 to 72967\n",
      "Data columns (total 7 columns):\n",
      " #   Column               Non-Null Count  Dtype  \n",
      "---  ------               --------------  -----  \n",
      " 0   ROW                  72968 non-null  int64  \n",
      " 1   CORRIDOR_SEGMENT_ID  72968 non-null  int64  \n",
      " 2   SPEED                72968 non-null  float64\n",
      " 3   VOLUME               72968 non-null  float64\n",
      " 4   OCCUPANCY            72968 non-null  float64\n",
      " 5   TRAFFIC_DENSITY      72968 non-null  float64\n",
      " 6   CALCULATED_TOLL      72968 non-null  float64\n",
      "dtypes: float64(5), int64(2)\n",
      "memory usage: 3.9 MB\n"
     ]
    }
   ],
   "source": [
    "data.info()"
   ]
  },
  {
   "cell_type": "code",
   "execution_count": 7,
   "id": "12a28c4f",
   "metadata": {},
   "outputs": [],
   "source": [
    "data['CORRIDOR_SEGMENT_ID'] = data['CORRIDOR_SEGMENT_ID'].astype(float)"
   ]
  },
  {
   "cell_type": "code",
   "execution_count": 8,
   "id": "fa04df48",
   "metadata": {},
   "outputs": [
    {
     "data": {
      "text/html": [
       "<div>\n",
       "<style scoped>\n",
       "    .dataframe tbody tr th:only-of-type {\n",
       "        vertical-align: middle;\n",
       "    }\n",
       "\n",
       "    .dataframe tbody tr th {\n",
       "        vertical-align: top;\n",
       "    }\n",
       "\n",
       "    .dataframe thead th {\n",
       "        text-align: right;\n",
       "    }\n",
       "</style>\n",
       "<table border=\"1\" class=\"dataframe\">\n",
       "  <thead>\n",
       "    <tr style=\"text-align: right;\">\n",
       "      <th></th>\n",
       "      <th>CORRIDOR_SEGMENT_ID</th>\n",
       "      <th>SPEED</th>\n",
       "      <th>VOLUME</th>\n",
       "      <th>OCCUPANCY</th>\n",
       "      <th>TRAFFIC_DENSITY</th>\n",
       "      <th>CALCULATED_TOLL</th>\n",
       "    </tr>\n",
       "  </thead>\n",
       "  <tbody>\n",
       "    <tr>\n",
       "      <th>0</th>\n",
       "      <td>211.0</td>\n",
       "      <td>70.15000</td>\n",
       "      <td>426.00000</td>\n",
       "      <td>0.00000</td>\n",
       "      <td>6.09085</td>\n",
       "      <td>0.55</td>\n",
       "    </tr>\n",
       "    <tr>\n",
       "      <th>1</th>\n",
       "      <td>101.0</td>\n",
       "      <td>-1.00000</td>\n",
       "      <td>-1.00000</td>\n",
       "      <td>-1.00000</td>\n",
       "      <td>-1.00000</td>\n",
       "      <td>0.55</td>\n",
       "    </tr>\n",
       "    <tr>\n",
       "      <th>2</th>\n",
       "      <td>213.0</td>\n",
       "      <td>73.94812</td>\n",
       "      <td>199.50000</td>\n",
       "      <td>0.02031</td>\n",
       "      <td>2.69728</td>\n",
       "      <td>0.30</td>\n",
       "    </tr>\n",
       "    <tr>\n",
       "      <th>3</th>\n",
       "      <td>212.0</td>\n",
       "      <td>75.04696</td>\n",
       "      <td>269.21739</td>\n",
       "      <td>0.02217</td>\n",
       "      <td>3.58489</td>\n",
       "      <td>0.35</td>\n",
       "    </tr>\n",
       "    <tr>\n",
       "      <th>4</th>\n",
       "      <td>212.0</td>\n",
       "      <td>73.02500</td>\n",
       "      <td>225.60000</td>\n",
       "      <td>0.01650</td>\n",
       "      <td>3.08941</td>\n",
       "      <td>0.35</td>\n",
       "    </tr>\n",
       "  </tbody>\n",
       "</table>\n",
       "</div>"
      ],
      "text/plain": [
       "   CORRIDOR_SEGMENT_ID     SPEED     VOLUME  OCCUPANCY  TRAFFIC_DENSITY  \\\n",
       "0                211.0  70.15000  426.00000    0.00000          6.09085   \n",
       "1                101.0  -1.00000   -1.00000   -1.00000         -1.00000   \n",
       "2                213.0  73.94812  199.50000    0.02031          2.69728   \n",
       "3                212.0  75.04696  269.21739    0.02217          3.58489   \n",
       "4                212.0  73.02500  225.60000    0.01650          3.08941   \n",
       "\n",
       "   CALCULATED_TOLL  \n",
       "0             0.55  \n",
       "1             0.55  \n",
       "2             0.30  \n",
       "3             0.35  \n",
       "4             0.35  "
      ]
     },
     "execution_count": 8,
     "metadata": {},
     "output_type": "execute_result"
    }
   ],
   "source": [
    "data.drop(columns='ROW', inplace=True)\n",
    "data.head()"
   ]
  },
  {
   "cell_type": "code",
   "execution_count": 9,
   "id": "2b688816",
   "metadata": {},
   "outputs": [
    {
     "data": {
      "text/plain": [
       "CORRIDOR_SEGMENT_ID    0\n",
       "SPEED                  0\n",
       "VOLUME                 0\n",
       "OCCUPANCY              0\n",
       "TRAFFIC_DENSITY        0\n",
       "CALCULATED_TOLL        0\n",
       "dtype: int64"
      ]
     },
     "execution_count": 9,
     "metadata": {},
     "output_type": "execute_result"
    }
   ],
   "source": [
    "data.isnull().sum()"
   ]
  },
  {
   "cell_type": "code",
   "execution_count": 10,
   "id": "36d24947",
   "metadata": {},
   "outputs": [
    {
     "data": {
      "text/html": [
       "<div>\n",
       "<style scoped>\n",
       "    .dataframe tbody tr th:only-of-type {\n",
       "        vertical-align: middle;\n",
       "    }\n",
       "\n",
       "    .dataframe tbody tr th {\n",
       "        vertical-align: top;\n",
       "    }\n",
       "\n",
       "    .dataframe thead th {\n",
       "        text-align: right;\n",
       "    }\n",
       "</style>\n",
       "<table border=\"1\" class=\"dataframe\">\n",
       "  <thead>\n",
       "    <tr style=\"text-align: right;\">\n",
       "      <th></th>\n",
       "      <th>CORRIDOR_SEGMENT_ID</th>\n",
       "      <th>SPEED</th>\n",
       "      <th>VOLUME</th>\n",
       "      <th>OCCUPANCY</th>\n",
       "      <th>TRAFFIC_DENSITY</th>\n",
       "      <th>CALCULATED_TOLL</th>\n",
       "    </tr>\n",
       "  </thead>\n",
       "  <tbody>\n",
       "    <tr>\n",
       "      <th>count</th>\n",
       "      <td>72968.000000</td>\n",
       "      <td>72968.000000</td>\n",
       "      <td>72968.000000</td>\n",
       "      <td>72968.000000</td>\n",
       "      <td>72968.000000</td>\n",
       "      <td>72968.000000</td>\n",
       "    </tr>\n",
       "    <tr>\n",
       "      <th>mean</th>\n",
       "      <td>192.000000</td>\n",
       "      <td>52.245519</td>\n",
       "      <td>248.489903</td>\n",
       "      <td>-0.224305</td>\n",
       "      <td>3.320614</td>\n",
       "      <td>0.567552</td>\n",
       "    </tr>\n",
       "    <tr>\n",
       "      <th>std</th>\n",
       "      <td>37.432099</td>\n",
       "      <td>31.726777</td>\n",
       "      <td>266.011843</td>\n",
       "      <td>0.480475</td>\n",
       "      <td>4.310343</td>\n",
       "      <td>0.751416</td>\n",
       "    </tr>\n",
       "    <tr>\n",
       "      <th>min</th>\n",
       "      <td>101.000000</td>\n",
       "      <td>-1.000000</td>\n",
       "      <td>-1.000000</td>\n",
       "      <td>-1.000000</td>\n",
       "      <td>-1.000000</td>\n",
       "      <td>0.300000</td>\n",
       "    </tr>\n",
       "    <tr>\n",
       "      <th>25%</th>\n",
       "      <td>201.000000</td>\n",
       "      <td>-1.000000</td>\n",
       "      <td>-1.000000</td>\n",
       "      <td>-1.000000</td>\n",
       "      <td>-1.000000</td>\n",
       "      <td>0.300000</td>\n",
       "    </tr>\n",
       "    <tr>\n",
       "      <th>50%</th>\n",
       "      <td>204.000000</td>\n",
       "      <td>70.046150</td>\n",
       "      <td>186.666670</td>\n",
       "      <td>0.010000</td>\n",
       "      <td>2.596485</td>\n",
       "      <td>0.350000</td>\n",
       "    </tr>\n",
       "    <tr>\n",
       "      <th>75%</th>\n",
       "      <td>212.000000</td>\n",
       "      <td>72.595000</td>\n",
       "      <td>324.000000</td>\n",
       "      <td>0.017030</td>\n",
       "      <td>4.551505</td>\n",
       "      <td>0.550000</td>\n",
       "    </tr>\n",
       "    <tr>\n",
       "      <th>max</th>\n",
       "      <td>213.000000</td>\n",
       "      <td>83.800000</td>\n",
       "      <td>1903.200000</td>\n",
       "      <td>3.166670</td>\n",
       "      <td>65.286920</td>\n",
       "      <td>14.000000</td>\n",
       "    </tr>\n",
       "  </tbody>\n",
       "</table>\n",
       "</div>"
      ],
      "text/plain": [
       "       CORRIDOR_SEGMENT_ID         SPEED        VOLUME     OCCUPANCY  \\\n",
       "count         72968.000000  72968.000000  72968.000000  72968.000000   \n",
       "mean            192.000000     52.245519    248.489903     -0.224305   \n",
       "std              37.432099     31.726777    266.011843      0.480475   \n",
       "min             101.000000     -1.000000     -1.000000     -1.000000   \n",
       "25%             201.000000     -1.000000     -1.000000     -1.000000   \n",
       "50%             204.000000     70.046150    186.666670      0.010000   \n",
       "75%             212.000000     72.595000    324.000000      0.017030   \n",
       "max             213.000000     83.800000   1903.200000      3.166670   \n",
       "\n",
       "       TRAFFIC_DENSITY  CALCULATED_TOLL  \n",
       "count     72968.000000     72968.000000  \n",
       "mean          3.320614         0.567552  \n",
       "std           4.310343         0.751416  \n",
       "min          -1.000000         0.300000  \n",
       "25%          -1.000000         0.300000  \n",
       "50%           2.596485         0.350000  \n",
       "75%           4.551505         0.550000  \n",
       "max          65.286920        14.000000  "
      ]
     },
     "execution_count": 10,
     "metadata": {},
     "output_type": "execute_result"
    }
   ],
   "source": [
    "data.describe()"
   ]
  },
  {
   "cell_type": "code",
   "execution_count": 11,
   "id": "886ab48a",
   "metadata": {},
   "outputs": [
    {
     "data": {
      "text/plain": [
       "(72968, 6)"
      ]
     },
     "execution_count": 11,
     "metadata": {},
     "output_type": "execute_result"
    }
   ],
   "source": [
    "data.shape"
   ]
  },
  {
   "cell_type": "code",
   "execution_count": 12,
   "id": "b8a660f5",
   "metadata": {},
   "outputs": [
    {
     "data": {
      "text/plain": [
       "np.int64(18977)"
      ]
     },
     "execution_count": 12,
     "metadata": {},
     "output_type": "execute_result"
    }
   ],
   "source": [
    "data.duplicated().sum()"
   ]
  },
  {
   "cell_type": "code",
   "execution_count": 13,
   "id": "58a65f0d",
   "metadata": {},
   "outputs": [
    {
     "data": {
      "text/html": [
       "<div>\n",
       "<style scoped>\n",
       "    .dataframe tbody tr th:only-of-type {\n",
       "        vertical-align: middle;\n",
       "    }\n",
       "\n",
       "    .dataframe tbody tr th {\n",
       "        vertical-align: top;\n",
       "    }\n",
       "\n",
       "    .dataframe thead th {\n",
       "        text-align: right;\n",
       "    }\n",
       "</style>\n",
       "<table border=\"1\" class=\"dataframe\">\n",
       "  <thead>\n",
       "    <tr style=\"text-align: right;\">\n",
       "      <th></th>\n",
       "      <th>CORRIDOR_SEGMENT_ID</th>\n",
       "      <th>SPEED</th>\n",
       "      <th>VOLUME</th>\n",
       "      <th>OCCUPANCY</th>\n",
       "      <th>TRAFFIC_DENSITY</th>\n",
       "      <th>CALCULATED_TOLL</th>\n",
       "    </tr>\n",
       "  </thead>\n",
       "  <tbody>\n",
       "    <tr>\n",
       "      <th>CORRIDOR_SEGMENT_ID</th>\n",
       "      <td>1.000000</td>\n",
       "      <td>0.187283</td>\n",
       "      <td>0.147067</td>\n",
       "      <td>0.073550</td>\n",
       "      <td>0.162655</td>\n",
       "      <td>0.024686</td>\n",
       "    </tr>\n",
       "    <tr>\n",
       "      <th>SPEED</th>\n",
       "      <td>0.187283</td>\n",
       "      <td>1.000000</td>\n",
       "      <td>0.528120</td>\n",
       "      <td>0.952611</td>\n",
       "      <td>0.558124</td>\n",
       "      <td>0.077204</td>\n",
       "    </tr>\n",
       "    <tr>\n",
       "      <th>VOLUME</th>\n",
       "      <td>0.147067</td>\n",
       "      <td>0.528120</td>\n",
       "      <td>1.000000</td>\n",
       "      <td>0.577011</td>\n",
       "      <td>0.982157</td>\n",
       "      <td>0.719397</td>\n",
       "    </tr>\n",
       "    <tr>\n",
       "      <th>OCCUPANCY</th>\n",
       "      <td>0.073550</td>\n",
       "      <td>0.952611</td>\n",
       "      <td>0.577011</td>\n",
       "      <td>1.000000</td>\n",
       "      <td>0.617081</td>\n",
       "      <td>0.128642</td>\n",
       "    </tr>\n",
       "    <tr>\n",
       "      <th>TRAFFIC_DENSITY</th>\n",
       "      <td>0.162655</td>\n",
       "      <td>0.558124</td>\n",
       "      <td>0.982157</td>\n",
       "      <td>0.617081</td>\n",
       "      <td>1.000000</td>\n",
       "      <td>0.730467</td>\n",
       "    </tr>\n",
       "    <tr>\n",
       "      <th>CALCULATED_TOLL</th>\n",
       "      <td>0.024686</td>\n",
       "      <td>0.077204</td>\n",
       "      <td>0.719397</td>\n",
       "      <td>0.128642</td>\n",
       "      <td>0.730467</td>\n",
       "      <td>1.000000</td>\n",
       "    </tr>\n",
       "  </tbody>\n",
       "</table>\n",
       "</div>"
      ],
      "text/plain": [
       "                     CORRIDOR_SEGMENT_ID     SPEED    VOLUME  OCCUPANCY  \\\n",
       "CORRIDOR_SEGMENT_ID             1.000000  0.187283  0.147067   0.073550   \n",
       "SPEED                           0.187283  1.000000  0.528120   0.952611   \n",
       "VOLUME                          0.147067  0.528120  1.000000   0.577011   \n",
       "OCCUPANCY                       0.073550  0.952611  0.577011   1.000000   \n",
       "TRAFFIC_DENSITY                 0.162655  0.558124  0.982157   0.617081   \n",
       "CALCULATED_TOLL                 0.024686  0.077204  0.719397   0.128642   \n",
       "\n",
       "                     TRAFFIC_DENSITY  CALCULATED_TOLL  \n",
       "CORRIDOR_SEGMENT_ID         0.162655         0.024686  \n",
       "SPEED                       0.558124         0.077204  \n",
       "VOLUME                      0.982157         0.719397  \n",
       "OCCUPANCY                   0.617081         0.128642  \n",
       "TRAFFIC_DENSITY             1.000000         0.730467  \n",
       "CALCULATED_TOLL             0.730467         1.000000  "
      ]
     },
     "execution_count": 13,
     "metadata": {},
     "output_type": "execute_result"
    }
   ],
   "source": [
    "corr = data.corr()\n",
    "corr"
   ]
  },
  {
   "cell_type": "code",
   "execution_count": 14,
   "id": "db607a7d",
   "metadata": {},
   "outputs": [
    {
     "data": {
      "text/plain": [
       "<Axes: >"
      ]
     },
     "execution_count": 14,
     "metadata": {},
     "output_type": "execute_result"
    },
    {
     "data": {
      "image/png": "[encoded data removed]",
      "text/plain": [
       "<Figure size 640x480 with 2 Axes>"
      ]
     },
     "metadata": {},
     "output_type": "display_data"
    }
   ],
   "source": [
    "plt.Figure(figsize=(10,8))\n",
    "sns.heatmap(corr,  square=True,annot=True)"
   ]
  },
  {
   "cell_type": "code",
   "execution_count": 15,
   "id": "386386a2",
   "metadata": {},
   "outputs": [
    {
     "data": {
      "text/html": [
       "<div>\n",
       "<style scoped>\n",
       "    .dataframe tbody tr th:only-of-type {\n",
       "        vertical-align: middle;\n",
       "    }\n",
       "\n",
       "    .dataframe tbody tr th {\n",
       "        vertical-align: top;\n",
       "    }\n",
       "\n",
       "    .dataframe thead th {\n",
       "        text-align: right;\n",
       "    }\n",
       "</style>\n",
       "<table border=\"1\" class=\"dataframe\">\n",
       "  <thead>\n",
       "    <tr style=\"text-align: right;\">\n",
       "      <th></th>\n",
       "      <th>CORRIDOR_SEGMENT_ID</th>\n",
       "      <th>SPEED</th>\n",
       "      <th>VOLUME</th>\n",
       "      <th>OCCUPANCY</th>\n",
       "      <th>TRAFFIC_DENSITY</th>\n",
       "      <th>CALCULATED_TOLL</th>\n",
       "    </tr>\n",
       "  </thead>\n",
       "  <tbody>\n",
       "    <tr>\n",
       "      <th>0</th>\n",
       "      <td>211.0</td>\n",
       "      <td>70.15000</td>\n",
       "      <td>426.00000</td>\n",
       "      <td>0.00000</td>\n",
       "      <td>6.09085</td>\n",
       "      <td>0.55</td>\n",
       "    </tr>\n",
       "    <tr>\n",
       "      <th>1</th>\n",
       "      <td>101.0</td>\n",
       "      <td>0.00000</td>\n",
       "      <td>0.00000</td>\n",
       "      <td>0.00000</td>\n",
       "      <td>0.00000</td>\n",
       "      <td>0.55</td>\n",
       "    </tr>\n",
       "    <tr>\n",
       "      <th>2</th>\n",
       "      <td>213.0</td>\n",
       "      <td>73.94812</td>\n",
       "      <td>199.50000</td>\n",
       "      <td>0.02031</td>\n",
       "      <td>2.69728</td>\n",
       "      <td>0.30</td>\n",
       "    </tr>\n",
       "    <tr>\n",
       "      <th>3</th>\n",
       "      <td>212.0</td>\n",
       "      <td>75.04696</td>\n",
       "      <td>269.21739</td>\n",
       "      <td>0.02217</td>\n",
       "      <td>3.58489</td>\n",
       "      <td>0.35</td>\n",
       "    </tr>\n",
       "    <tr>\n",
       "      <th>4</th>\n",
       "      <td>212.0</td>\n",
       "      <td>73.02500</td>\n",
       "      <td>225.60000</td>\n",
       "      <td>0.01650</td>\n",
       "      <td>3.08941</td>\n",
       "      <td>0.35</td>\n",
       "    </tr>\n",
       "  </tbody>\n",
       "</table>\n",
       "</div>"
      ],
      "text/plain": [
       "   CORRIDOR_SEGMENT_ID     SPEED     VOLUME  OCCUPANCY  TRAFFIC_DENSITY  \\\n",
       "0                211.0  70.15000  426.00000    0.00000          6.09085   \n",
       "1                101.0   0.00000    0.00000    0.00000          0.00000   \n",
       "2                213.0  73.94812  199.50000    0.02031          2.69728   \n",
       "3                212.0  75.04696  269.21739    0.02217          3.58489   \n",
       "4                212.0  73.02500  225.60000    0.01650          3.08941   \n",
       "\n",
       "   CALCULATED_TOLL  \n",
       "0             0.55  \n",
       "1             0.55  \n",
       "2             0.30  \n",
       "3             0.35  \n",
       "4             0.35  "
      ]
     },
     "execution_count": 15,
     "metadata": {},
     "output_type": "execute_result"
    }
   ],
   "source": [
    "data.replace(-1,0,inplace=True)\n",
    "data.head()"
   ]
  },
  {
   "cell_type": "code",
   "execution_count": 16,
   "id": "8c9ce5fc",
   "metadata": {},
   "outputs": [],
   "source": [
    "X = data.drop('CALCULATED_TOLL', axis=1)\n",
    "y = data['CALCULATED_TOLL']\n",
    "X_train, X_test, y_train, y_test = train_test_split(X,y,test_size=.25,random_state=42)"
   ]
  },
  {
   "cell_type": "code",
   "execution_count": 17,
   "id": "1d17cab2",
   "metadata": {},
   "outputs": [],
   "source": [
    "models =[\n",
    "    ('RandomForest', RandomForestRegressor()),\n",
    "    ('KNN', KNeighborsRegressor()),\n",
    "    ('DecisionTree', DecisionTreeRegressor()),\n",
    "    ('LinearRegression', LinearRegression())\n",
    "]"
   ]
  },
  {
   "cell_type": "code",
   "execution_count": 18,
   "id": "452e3418",
   "metadata": {},
   "outputs": [
    {
     "name": "stdout",
     "output_type": "stream",
     "text": [
      "RandomForest\n"
     ]
    },
    {
     "name": "stderr",
     "output_type": "stream",
     "text": [
      "C:\\Users\\20813473\\AppData\\Local\\Packages\\PythonSoftwareFoundation.Python.3.11_qbz5n2kfra8p0\\LocalCache\\local-packages\\Python311\\site-packages\\sklearn\\utils\\validation.py:2749: UserWarning: X does not have valid feature names, but RandomForestRegressor was fitted with feature names\n",
      "  warnings.warn(\n"
     ]
    },
    {
     "name": "stdout",
     "output_type": "stream",
     "text": [
      "predicted  [0.558]\n",
      "Mean Square Error : 0.015466394789496773\n",
      "R2 Square Error:  0.972025319446235\n",
      "Mean Absolute Error :  0.017023380111835924\n",
      "KNN\n"
     ]
    },
    {
     "name": "stderr",
     "output_type": "stream",
     "text": [
      "C:\\Users\\20813473\\AppData\\Local\\Packages\\PythonSoftwareFoundation.Python.3.11_qbz5n2kfra8p0\\LocalCache\\local-packages\\Python311\\site-packages\\sklearn\\utils\\validation.py:2749: UserWarning: X does not have valid feature names, but KNeighborsRegressor was fitted with feature names\n",
      "  warnings.warn(\n"
     ]
    },
    {
     "name": "stdout",
     "output_type": "stream",
     "text": [
      "predicted  [0.59]\n",
      "Mean Square Error : 0.05085993312136827\n",
      "R2 Square Error:  0.9080076254731101\n",
      "Mean Absolute Error :  0.04702609363008442\n",
      "DecisionTree\n",
      "predicted  [0.55]\n",
      "Mean Square Error : 0.028999972590724697\n",
      "R2 Square Error:  0.9475466014973062\n",
      "Mean Absolute Error :  0.019315316303057217\n",
      "LinearRegression\n",
      "predicted  [0.85332185]\n",
      "Mean Square Error : 0.15804940511993026\n",
      "R2 Square Error:  0.714129783952936\n",
      "Mean Absolute Error :  0.21736968696345219\n"
     ]
    },
    {
     "name": "stderr",
     "output_type": "stream",
     "text": [
      "C:\\Users\\20813473\\AppData\\Local\\Packages\\PythonSoftwareFoundation.Python.3.11_qbz5n2kfra8p0\\LocalCache\\local-packages\\Python311\\site-packages\\sklearn\\utils\\validation.py:2749: UserWarning: X does not have valid feature names, but DecisionTreeRegressor was fitted with feature names\n",
      "  warnings.warn(\n",
      "C:\\Users\\20813473\\AppData\\Local\\Packages\\PythonSoftwareFoundation.Python.3.11_qbz5n2kfra8p0\\LocalCache\\local-packages\\Python311\\site-packages\\sklearn\\utils\\validation.py:2749: UserWarning: X does not have valid feature names, but LinearRegression was fitted with feature names\n",
      "  warnings.warn(\n"
     ]
    }
   ],
   "source": [
    "for name,model in models:\n",
    "    print(name)\n",
    "    model.fit(X_train, y_train)\n",
    "    y_pred = model.predict(X_test)\n",
    "    print('predicted ', model.predict([[211,70.15,426,0,6.09085]]))\n",
    "    print('Mean Square Error :', mean_squared_error(y_test, y_pred))\n",
    "    print('R2 Square Error: ', r2_score(y_test, y_pred))\n",
    "    print('Mean Absolute Error : ', mean_absolute_error(y_test, y_pred))\n",
    "    filename = name + '.pk1'\n",
    "    with open(filename, 'wb' ) as file :\n",
    "        pickle.dump(model, file)"
   ]
  },
  {
   "cell_type": "code",
   "execution_count": 19,
   "id": "79d0c120",
   "metadata": {},
   "outputs": [],
   "source": [
    "with open('RandomForest.pk1','rb') as file:\n",
    "    newmodel = pickle.load(file)\n",
    "\n"
   ]
  },
  {
   "cell_type": "code",
   "execution_count": 20,
   "id": "6cecaadb",
   "metadata": {},
   "outputs": [
    {
     "name": "stderr",
     "output_type": "stream",
     "text": [
      "C:\\Users\\20813473\\AppData\\Local\\Packages\\PythonSoftwareFoundation.Python.3.11_qbz5n2kfra8p0\\LocalCache\\local-packages\\Python311\\site-packages\\sklearn\\utils\\validation.py:2749: UserWarning: X does not have valid feature names, but RandomForestRegressor was fitted with feature names\n",
      "  warnings.warn(\n"
     ]
    },
    {
     "data": {
      "text/plain": [
       "array([0.558])"
      ]
     },
     "execution_count": 20,
     "metadata": {},
     "output_type": "execute_result"
    }
   ],
   "source": [
    "output = newmodel.predict([[211,70.15,426,0,6.09085]])\n",
    "output\n"
   ]
  },
  {
   "cell_type": "code",
   "execution_count": 21,
   "id": "b556b7a2",
   "metadata": {},
   "outputs": [
    {
     "data": {
      "text/plain": [
       "Index(['CORRIDOR_SEGMENT_ID', 'SPEED', 'VOLUME', 'OCCUPANCY',\n",
       "       'TRAFFIC_DENSITY', 'CALCULATED_TOLL'],\n",
       "      dtype='object')"
      ]
     },
     "execution_count": 21,
     "metadata": {},
     "output_type": "execute_result"
    }
   ],
   "source": [
    "data.columns"
   ]
  }
 ],
 "metadata": {
  "kernelspec": {
   "display_name": "Python 3",
   "language": "python",
   "name": "python3"
  },
  "language_info": {
   "codemirror_mode": {
    "name": "ipython",
    "version": 3
   },
   "file_extension": ".py",
   "mimetype": "text/x-python",
   "name": "python",
   "nbconvert_exporter": "python",
   "pygments_lexer": "ipython3",
   "version": "3.11.9"
  }
 },
 "nbformat": 4,
 "nbformat_minor": 5
}
